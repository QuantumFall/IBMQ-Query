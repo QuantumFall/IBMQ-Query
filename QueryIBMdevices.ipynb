{
 "cells": [
  {
   "cell_type": "code",
   "execution_count": null,
   "id": "ba821fb8-29bc-4e2c-9135-fc3aaca7aa7c",
   "metadata": {},
   "outputs": [],
   "source": [
    "from qiskit_ibm_provider import IBMProvider\n",
    "provider = IBMProvider(token='MY_API_KEY')\n",
    "\n",
    "\n",
    "# https://quantum-computing.ibm.com/lab/docs/iql/manage/account/ibmq\n",
    "\n",
    "for backend in provider.backends(filters=lambda x: not x.configuration().simulator and x.status().operational==True):\n",
    "    \n",
    "    name = backend.name\n",
    "    num_q = backend.num_qubits\n",
    "    properties = backend.properties().to_dict()['qubits']\n",
    "    avr_t1 = np.mean([properties[nq][0]['value'] for nq in range(num_q)])  # Average T1 time\n",
    "    avr_t2 = np.mean([properties[nq][1]['value'] for nq in range(num_q)])  # Average T2 time\n",
    "    avr_ro = np.mean([properties[nq][4]['value'] for nq in range(num_q)])  # Average readout. Mean of prep0_meas1 and prep1_meas0\n",
    "    pending_jobs = backend.status().pending_jobs\n",
    "    \n",
    "    one_qb_err = []\n",
    "    two_qb_err = []\n",
    "    for gate_i in backend.properties().gates:\n",
    "\n",
    "        if \"rz\" in gate_i.name:                                            # Ignore Rz gates as it is a classical phase shift with error of 0\n",
    "            continue\n",
    "        if \"reset\" in gate_i.name:                                         # Ignore resets for now since they're given in units of ns\n",
    "            continue\n",
    "        if len(gate_i.qubits) == 1:\n",
    "            one_qb_err.append(gate_i.parameters[0].value)\n",
    "        else:\n",
    "            two_qb_err.append(gate_i.parameters[0].value)\n",
    "            \n",
    "    avr_1err = np.mean(one_qb_err)                                          # Average error rates for 1 qubit gates\n",
    "    avr_2err = np.mean(two_qb_err)                                          # Average error rates for 2 qubit gates\n",
    "    \n",
    "    \n",
    "    print(f\"Name: {name:<16}, Avr T1 (μs): {avr_t1:<7.3f}, Avr T2 (μs): {avr_t2:<7.3f}, Avr 1qb err: {avr_1err:<7.6f}, Avr 2qb err: {avr_2err:<7.5f}\",\n",
    "          f\"Avr RO: {avr_ro:<6.4f},\", \n",
    "          # f\"Jobs in Q: {pending_jobs:<3d}\"                                # Seems to be broken for some reason.\n",
    "         )\n",
    "    \n"
   ]
  }
 ],
 "metadata": {
  "kernelspec": {
   "display_name": "Python 3 (ipykernel)",
   "language": "python",
   "name": "python3"
  },
  "language_info": {
   "codemirror_mode": {
    "name": "ipython",
    "version": 3
   },
   "file_extension": ".py",
   "mimetype": "text/x-python",
   "name": "python",
   "nbconvert_exporter": "python",
   "pygments_lexer": "ipython3",
   "version": "3.10.6"
  }
 },
 "nbformat": 4,
 "nbformat_minor": 5
}
